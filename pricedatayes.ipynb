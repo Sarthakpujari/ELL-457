{
 "cells": [
  {
   "cell_type": "code",
   "execution_count": 1,
   "id": "3e31b0fd",
   "metadata": {},
   "outputs": [],
   "source": [
    "import pandas as pd\n",
    "import numpy as np"
   ]
  },
  {
   "cell_type": "code",
   "execution_count": 2,
   "id": "715fe290",
   "metadata": {},
   "outputs": [],
   "source": [
    "df = pd.read_excel(r'C:\\Users\\HP\\Downloads\\pricedatayes.xlsx')"
   ]
  },
  {
   "cell_type": "code",
   "execution_count": 3,
   "id": "85e2d400",
   "metadata": {},
   "outputs": [],
   "source": [
    "df1 = df[['Hour','MCP']]"
   ]
  },
  {
   "cell_type": "code",
   "execution_count": 4,
   "id": "e214f1bc",
   "metadata": {},
   "outputs": [
    {
     "data": {
      "text/html": [
       "<div>\n",
       "<style scoped>\n",
       "    .dataframe tbody tr th:only-of-type {\n",
       "        vertical-align: middle;\n",
       "    }\n",
       "\n",
       "    .dataframe tbody tr th {\n",
       "        vertical-align: top;\n",
       "    }\n",
       "\n",
       "    .dataframe thead th {\n",
       "        text-align: right;\n",
       "    }\n",
       "</style>\n",
       "<table border=\"1\" class=\"dataframe\">\n",
       "  <thead>\n",
       "    <tr style=\"text-align: right;\">\n",
       "      <th></th>\n",
       "      <th>Hour</th>\n",
       "      <th>MCP</th>\n",
       "    </tr>\n",
       "  </thead>\n",
       "  <tbody>\n",
       "    <tr>\n",
       "      <th>0</th>\n",
       "      <td>1.0</td>\n",
       "      <td>2872.97</td>\n",
       "    </tr>\n",
       "    <tr>\n",
       "      <th>1</th>\n",
       "      <td>NaN</td>\n",
       "      <td>2872.71</td>\n",
       "    </tr>\n",
       "    <tr>\n",
       "      <th>2</th>\n",
       "      <td>NaN</td>\n",
       "      <td>3150.24</td>\n",
       "    </tr>\n",
       "    <tr>\n",
       "      <th>3</th>\n",
       "      <td>NaN</td>\n",
       "      <td>3150.31</td>\n",
       "    </tr>\n",
       "    <tr>\n",
       "      <th>4</th>\n",
       "      <td>2.0</td>\n",
       "      <td>3039.48</td>\n",
       "    </tr>\n",
       "    <tr>\n",
       "      <th>...</th>\n",
       "      <td>...</td>\n",
       "      <td>...</td>\n",
       "    </tr>\n",
       "    <tr>\n",
       "      <th>91</th>\n",
       "      <td>NaN</td>\n",
       "      <td>2759.79</td>\n",
       "    </tr>\n",
       "    <tr>\n",
       "      <th>92</th>\n",
       "      <td>24.0</td>\n",
       "      <td>2080.23</td>\n",
       "    </tr>\n",
       "    <tr>\n",
       "      <th>93</th>\n",
       "      <td>NaN</td>\n",
       "      <td>2000.86</td>\n",
       "    </tr>\n",
       "    <tr>\n",
       "      <th>94</th>\n",
       "      <td>NaN</td>\n",
       "      <td>1999.78</td>\n",
       "    </tr>\n",
       "    <tr>\n",
       "      <th>95</th>\n",
       "      <td>NaN</td>\n",
       "      <td>1999.68</td>\n",
       "    </tr>\n",
       "  </tbody>\n",
       "</table>\n",
       "<p>96 rows × 2 columns</p>\n",
       "</div>"
      ],
      "text/plain": [
       "    Hour      MCP\n",
       "0    1.0  2872.97\n",
       "1    NaN  2872.71\n",
       "2    NaN  3150.24\n",
       "3    NaN  3150.31\n",
       "4    2.0  3039.48\n",
       "..   ...      ...\n",
       "91   NaN  2759.79\n",
       "92  24.0  2080.23\n",
       "93   NaN  2000.86\n",
       "94   NaN  1999.78\n",
       "95   NaN  1999.68\n",
       "\n",
       "[96 rows x 2 columns]"
      ]
     },
     "execution_count": 4,
     "metadata": {},
     "output_type": "execute_result"
    }
   ],
   "source": [
    "df1"
   ]
  },
  {
   "cell_type": "code",
   "execution_count": 5,
   "id": "b41dbaa6",
   "metadata": {},
   "outputs": [],
   "source": [
    "k = df1.fillna(method = 'ffill')"
   ]
  },
  {
   "cell_type": "code",
   "execution_count": 6,
   "id": "57c7f1a9",
   "metadata": {},
   "outputs": [
    {
     "data": {
      "text/html": [
       "<div>\n",
       "<style scoped>\n",
       "    .dataframe tbody tr th:only-of-type {\n",
       "        vertical-align: middle;\n",
       "    }\n",
       "\n",
       "    .dataframe tbody tr th {\n",
       "        vertical-align: top;\n",
       "    }\n",
       "\n",
       "    .dataframe thead th {\n",
       "        text-align: right;\n",
       "    }\n",
       "</style>\n",
       "<table border=\"1\" class=\"dataframe\">\n",
       "  <thead>\n",
       "    <tr style=\"text-align: right;\">\n",
       "      <th></th>\n",
       "      <th>Hour</th>\n",
       "      <th>MCP</th>\n",
       "    </tr>\n",
       "  </thead>\n",
       "  <tbody>\n",
       "    <tr>\n",
       "      <th>0</th>\n",
       "      <td>1.0</td>\n",
       "      <td>2872.97</td>\n",
       "    </tr>\n",
       "    <tr>\n",
       "      <th>1</th>\n",
       "      <td>1.0</td>\n",
       "      <td>2872.71</td>\n",
       "    </tr>\n",
       "    <tr>\n",
       "      <th>2</th>\n",
       "      <td>1.0</td>\n",
       "      <td>3150.24</td>\n",
       "    </tr>\n",
       "    <tr>\n",
       "      <th>3</th>\n",
       "      <td>1.0</td>\n",
       "      <td>3150.31</td>\n",
       "    </tr>\n",
       "    <tr>\n",
       "      <th>4</th>\n",
       "      <td>2.0</td>\n",
       "      <td>3039.48</td>\n",
       "    </tr>\n",
       "    <tr>\n",
       "      <th>...</th>\n",
       "      <td>...</td>\n",
       "      <td>...</td>\n",
       "    </tr>\n",
       "    <tr>\n",
       "      <th>91</th>\n",
       "      <td>23.0</td>\n",
       "      <td>2759.79</td>\n",
       "    </tr>\n",
       "    <tr>\n",
       "      <th>92</th>\n",
       "      <td>24.0</td>\n",
       "      <td>2080.23</td>\n",
       "    </tr>\n",
       "    <tr>\n",
       "      <th>93</th>\n",
       "      <td>24.0</td>\n",
       "      <td>2000.86</td>\n",
       "    </tr>\n",
       "    <tr>\n",
       "      <th>94</th>\n",
       "      <td>24.0</td>\n",
       "      <td>1999.78</td>\n",
       "    </tr>\n",
       "    <tr>\n",
       "      <th>95</th>\n",
       "      <td>24.0</td>\n",
       "      <td>1999.68</td>\n",
       "    </tr>\n",
       "  </tbody>\n",
       "</table>\n",
       "<p>96 rows × 2 columns</p>\n",
       "</div>"
      ],
      "text/plain": [
       "    Hour      MCP\n",
       "0    1.0  2872.97\n",
       "1    1.0  2872.71\n",
       "2    1.0  3150.24\n",
       "3    1.0  3150.31\n",
       "4    2.0  3039.48\n",
       "..   ...      ...\n",
       "91  23.0  2759.79\n",
       "92  24.0  2080.23\n",
       "93  24.0  2000.86\n",
       "94  24.0  1999.78\n",
       "95  24.0  1999.68\n",
       "\n",
       "[96 rows x 2 columns]"
      ]
     },
     "execution_count": 6,
     "metadata": {},
     "output_type": "execute_result"
    }
   ],
   "source": [
    "k"
   ]
  },
  {
   "cell_type": "code",
   "execution_count": 7,
   "id": "a9013963",
   "metadata": {},
   "outputs": [],
   "source": [
    "dfn = k.groupby(['Hour']).mean()"
   ]
  },
  {
   "cell_type": "code",
   "execution_count": 8,
   "id": "be2efa83",
   "metadata": {},
   "outputs": [
    {
     "data": {
      "text/html": [
       "<div>\n",
       "<style scoped>\n",
       "    .dataframe tbody tr th:only-of-type {\n",
       "        vertical-align: middle;\n",
       "    }\n",
       "\n",
       "    .dataframe tbody tr th {\n",
       "        vertical-align: top;\n",
       "    }\n",
       "\n",
       "    .dataframe thead th {\n",
       "        text-align: right;\n",
       "    }\n",
       "</style>\n",
       "<table border=\"1\" class=\"dataframe\">\n",
       "  <thead>\n",
       "    <tr style=\"text-align: right;\">\n",
       "      <th></th>\n",
       "      <th>MCP</th>\n",
       "    </tr>\n",
       "    <tr>\n",
       "      <th>Hour</th>\n",
       "      <th></th>\n",
       "    </tr>\n",
       "  </thead>\n",
       "  <tbody>\n",
       "    <tr>\n",
       "      <th>1.0</th>\n",
       "      <td>3011.5575</td>\n",
       "    </tr>\n",
       "    <tr>\n",
       "      <th>2.0</th>\n",
       "      <td>3022.0775</td>\n",
       "    </tr>\n",
       "    <tr>\n",
       "      <th>3.0</th>\n",
       "      <td>2822.7350</td>\n",
       "    </tr>\n",
       "    <tr>\n",
       "      <th>4.0</th>\n",
       "      <td>2648.3750</td>\n",
       "    </tr>\n",
       "    <tr>\n",
       "      <th>5.0</th>\n",
       "      <td>2934.5975</td>\n",
       "    </tr>\n",
       "    <tr>\n",
       "      <th>6.0</th>\n",
       "      <td>2227.7200</td>\n",
       "    </tr>\n",
       "    <tr>\n",
       "      <th>7.0</th>\n",
       "      <td>4295.9000</td>\n",
       "    </tr>\n",
       "    <tr>\n",
       "      <th>8.0</th>\n",
       "      <td>3952.5075</td>\n",
       "    </tr>\n",
       "    <tr>\n",
       "      <th>9.0</th>\n",
       "      <td>3929.2525</td>\n",
       "    </tr>\n",
       "    <tr>\n",
       "      <th>10.0</th>\n",
       "      <td>3857.0450</td>\n",
       "    </tr>\n",
       "    <tr>\n",
       "      <th>11.0</th>\n",
       "      <td>3733.7050</td>\n",
       "    </tr>\n",
       "    <tr>\n",
       "      <th>12.0</th>\n",
       "      <td>3254.8150</td>\n",
       "    </tr>\n",
       "    <tr>\n",
       "      <th>13.0</th>\n",
       "      <td>3094.9475</td>\n",
       "    </tr>\n",
       "    <tr>\n",
       "      <th>14.0</th>\n",
       "      <td>2999.8600</td>\n",
       "    </tr>\n",
       "    <tr>\n",
       "      <th>15.0</th>\n",
       "      <td>3140.0975</td>\n",
       "    </tr>\n",
       "    <tr>\n",
       "      <th>16.0</th>\n",
       "      <td>3805.2375</td>\n",
       "    </tr>\n",
       "    <tr>\n",
       "      <th>17.0</th>\n",
       "      <td>5312.7750</td>\n",
       "    </tr>\n",
       "    <tr>\n",
       "      <th>18.0</th>\n",
       "      <td>10187.9200</td>\n",
       "    </tr>\n",
       "    <tr>\n",
       "      <th>19.0</th>\n",
       "      <td>15996.9900</td>\n",
       "    </tr>\n",
       "    <tr>\n",
       "      <th>20.0</th>\n",
       "      <td>6680.7225</td>\n",
       "    </tr>\n",
       "    <tr>\n",
       "      <th>21.0</th>\n",
       "      <td>3450.8550</td>\n",
       "    </tr>\n",
       "    <tr>\n",
       "      <th>22.0</th>\n",
       "      <td>3165.4150</td>\n",
       "    </tr>\n",
       "    <tr>\n",
       "      <th>23.0</th>\n",
       "      <td>2582.3450</td>\n",
       "    </tr>\n",
       "    <tr>\n",
       "      <th>24.0</th>\n",
       "      <td>2020.1375</td>\n",
       "    </tr>\n",
       "  </tbody>\n",
       "</table>\n",
       "</div>"
      ],
      "text/plain": [
       "             MCP\n",
       "Hour            \n",
       "1.0    3011.5575\n",
       "2.0    3022.0775\n",
       "3.0    2822.7350\n",
       "4.0    2648.3750\n",
       "5.0    2934.5975\n",
       "6.0    2227.7200\n",
       "7.0    4295.9000\n",
       "8.0    3952.5075\n",
       "9.0    3929.2525\n",
       "10.0   3857.0450\n",
       "11.0   3733.7050\n",
       "12.0   3254.8150\n",
       "13.0   3094.9475\n",
       "14.0   2999.8600\n",
       "15.0   3140.0975\n",
       "16.0   3805.2375\n",
       "17.0   5312.7750\n",
       "18.0  10187.9200\n",
       "19.0  15996.9900\n",
       "20.0   6680.7225\n",
       "21.0   3450.8550\n",
       "22.0   3165.4150\n",
       "23.0   2582.3450\n",
       "24.0   2020.1375"
      ]
     },
     "execution_count": 8,
     "metadata": {},
     "output_type": "execute_result"
    }
   ],
   "source": [
    "dfn"
   ]
  },
  {
   "cell_type": "code",
   "execution_count": 9,
   "id": "a634f524",
   "metadata": {},
   "outputs": [],
   "source": [
    "l = dfn['MCP'].tolist()\n",
    "nl = np.array(l)"
   ]
  },
  {
   "cell_type": "code",
   "execution_count": 10,
   "id": "3962b9aa",
   "metadata": {},
   "outputs": [
    {
     "data": {
      "text/plain": [
       "4255.31625"
      ]
     },
     "execution_count": 10,
     "metadata": {},
     "output_type": "execute_result"
    }
   ],
   "source": [
    "m = np.mean(nl)\n",
    "m"
   ]
  },
  {
   "cell_type": "code",
   "execution_count": 11,
   "id": "886f565b",
   "metadata": {},
   "outputs": [
    {
     "data": {
      "text/plain": [
       "2952.7633926113745"
      ]
     },
     "execution_count": 11,
     "metadata": {},
     "output_type": "execute_result"
    }
   ],
   "source": [
    "s = np.std(nl)\n",
    "s"
   ]
  },
  {
   "cell_type": "code",
   "execution_count": 12,
   "id": "cd76de5a",
   "metadata": {},
   "outputs": [],
   "source": [
    "noise = np.random.normal(m, s, nl.shape)\n",
    "new_array = nl + noise"
   ]
  },
  {
   "cell_type": "code",
   "execution_count": 13,
   "id": "0d42bca7",
   "metadata": {},
   "outputs": [],
   "source": [
    "price_list = (new_array/new_array.max())*15"
   ]
  },
  {
   "cell_type": "code",
   "execution_count": 14,
   "id": "aa264206",
   "metadata": {},
   "outputs": [
    {
     "data": {
      "text/plain": [
       "array([ 5.15894104,  1.84827104,  3.3220806 ,  4.48222616,  3.6173171 ,\n",
       "        0.08771789,  8.64746746,  4.81283383,  8.77861852,  7.03673959,\n",
       "        4.37419262,  5.44170312,  4.44079546,  2.69305567,  4.72009565,\n",
       "        3.90335253,  3.45227531,  9.48127887, 15.        ,  5.77512669,\n",
       "        4.50262367,  4.67505457,  3.12357765,  6.22475087])"
      ]
     },
     "execution_count": 14,
     "metadata": {},
     "output_type": "execute_result"
    }
   ],
   "source": [
    "price_list"
   ]
  },
  {
   "cell_type": "code",
   "execution_count": 15,
   "id": "71e5691f",
   "metadata": {},
   "outputs": [],
   "source": [
    "B=[2.1]\n",
    "B_max = 3\n",
    "B_min = 0.6\n",
    "B_in = B_out = 1.5\n",
    "alpha = 0.1416"
   ]
  },
  {
   "cell_type": "code",
   "execution_count": 16,
   "id": "4f9600d6",
   "metadata": {},
   "outputs": [],
   "source": [
    "p_max = 15\n",
    "gma = (p_max*B_max)/(B_max - B_min)\n",
    "eps = p_max/(B_max - B_min)"
   ]
  },
  {
   "cell_type": "code",
   "execution_count": 17,
   "id": "cf70290f",
   "metadata": {},
   "outputs": [],
   "source": [
    "X = []"
   ]
  },
  {
   "cell_type": "code",
   "execution_count": 18,
   "id": "cfe1a90a",
   "metadata": {},
   "outputs": [],
   "source": [
    "##Optimal Storage Optimization"
   ]
  },
  {
   "cell_type": "code",
   "execution_count": 19,
   "id": "f0777cc1",
   "metadata": {},
   "outputs": [],
   "source": [
    "for i in range(24):\n",
    "    b_in = B[i]\n",
    "    p = price_list[i]\n",
    "    x = alpha*(gma - eps*b_in - p)\n",
    "    b = b_in + x\n",
    "    X.append(x)\n",
    "    B.append(b)"
   ]
  },
  {
   "cell_type": "code",
   "execution_count": 20,
   "id": "d95c71e8",
   "metadata": {},
   "outputs": [
    {
     "data": {
      "text/plain": [
       "[0.06599394940285931,\n",
       " 0.47638017483584433,\n",
       " -0.15390771295873681,\n",
       " -0.18197599840975517,\n",
       " 0.1015438838407629,\n",
       " 0.5114687947046478,\n",
       " -1.1532416281053997,\n",
       " 0.4103613351452432,\n",
       " -0.5143635593621205,\n",
       " 0.1874982478416691,\n",
       " 0.39857894919505615,\n",
       " -0.10532290792215039,\n",
       " 0.12961639018101703,\n",
       " 0.2623858394953969,\n",
       " -0.25685448961051743,\n",
       " 0.08611255935030791,\n",
       " 0.07377547801050169,\n",
       " -0.8452227233561638,\n",
       " -0.8786515253164388,\n",
       " 1.2051971348099204,\n",
       " 0.3187840984529566,\n",
       " 0.012243956179755286,\n",
       " 0.22109718704667874,\n",
       " -0.4136999522652526]"
      ]
     },
     "execution_count": 20,
     "metadata": {},
     "output_type": "execute_result"
    }
   ],
   "source": [
    "X"
   ]
  },
  {
   "cell_type": "code",
   "execution_count": 21,
   "id": "256691f4",
   "metadata": {},
   "outputs": [
    {
     "data": {
      "text/plain": [
       "[2.1,\n",
       " 2.1659939494028593,\n",
       " 2.6423741242387035,\n",
       " 2.488466411279967,\n",
       " 2.3064904128702115,\n",
       " 2.4080342967109742,\n",
       " 2.919503091415622,\n",
       " 1.7662614633102223,\n",
       " 2.1766227984554654,\n",
       " 1.6622592390933448,\n",
       " 1.849757486935014,\n",
       " 2.24833643613007,\n",
       " 2.1430135282079195,\n",
       " 2.2726299183889367,\n",
       " 2.5350157578843335,\n",
       " 2.278161268273816,\n",
       " 2.3642738276241237,\n",
       " 2.4380493056346255,\n",
       " 1.5928265822784617,\n",
       " 0.714175056962023,\n",
       " 1.9193721917719433,\n",
       " 2.2381562902248997,\n",
       " 2.250400246404655,\n",
       " 2.4714974334513338,\n",
       " 2.057797481186081]"
      ]
     },
     "execution_count": 21,
     "metadata": {},
     "output_type": "execute_result"
    }
   ],
   "source": [
    "B"
   ]
  },
  {
   "cell_type": "code",
   "execution_count": 22,
   "id": "3f8e8ab4",
   "metadata": {},
   "outputs": [],
   "source": [
    "##Quadratic Convex Optimisation"
   ]
  },
  {
   "cell_type": "code",
   "execution_count": 23,
   "id": "0f955da5",
   "metadata": {},
   "outputs": [],
   "source": [
    "from cvxopt import solvers, matrix"
   ]
  },
  {
   "cell_type": "code",
   "execution_count": 24,
   "id": "68912102",
   "metadata": {},
   "outputs": [],
   "source": [
    "A = np.identity(24, dtype = float)"
   ]
  },
  {
   "cell_type": "code",
   "execution_count": 25,
   "id": "6308e463",
   "metadata": {},
   "outputs": [
    {
     "data": {
      "text/plain": [
       "(24, 24)"
      ]
     },
     "execution_count": 25,
     "metadata": {},
     "output_type": "execute_result"
    }
   ],
   "source": [
    "A.shape"
   ]
  },
  {
   "cell_type": "code",
   "execution_count": 26,
   "id": "f6c2e80f",
   "metadata": {},
   "outputs": [],
   "source": [
    "alpha1 = alpha*24"
   ]
  },
  {
   "cell_type": "code",
   "execution_count": 27,
   "id": "f223d520",
   "metadata": {},
   "outputs": [
    {
     "data": {
      "text/plain": [
       "(24, 24)"
      ]
     },
     "execution_count": 27,
     "metadata": {},
     "output_type": "execute_result"
    }
   ],
   "source": [
    "k = (1/alpha1)*A\n",
    "k.shape"
   ]
  },
  {
   "cell_type": "code",
   "execution_count": 36,
   "id": "9b85522b",
   "metadata": {},
   "outputs": [],
   "source": [
    "A1 = matrix((1/alpha1)*A) ## A1 = P"
   ]
  },
  {
   "cell_type": "code",
   "execution_count": 29,
   "id": "eeec3b9e",
   "metadata": {},
   "outputs": [
    {
     "data": {
      "text/plain": [
       "<24x24 matrix, tc='d'>"
      ]
     },
     "execution_count": 29,
     "metadata": {},
     "output_type": "execute_result"
    }
   ],
   "source": [
    "A1"
   ]
  },
  {
   "cell_type": "code",
   "execution_count": 37,
   "id": "d78a45ea",
   "metadata": {},
   "outputs": [],
   "source": [
    "B1 = matrix(price_list*(1/24)) ## B1 = q"
   ]
  },
  {
   "cell_type": "code",
   "execution_count": 38,
   "id": "8821982e",
   "metadata": {},
   "outputs": [],
   "source": [
    "C = np.array([1.0 for i in range(24)])"
   ]
  },
  {
   "cell_type": "code",
   "execution_count": 39,
   "id": "6a163a66",
   "metadata": {},
   "outputs": [
    {
     "data": {
      "text/plain": [
       "array([1., 1., 1., 1., 1., 1., 1., 1., 1., 1., 1., 1., 1., 1., 1., 1., 1.,\n",
       "       1., 1., 1., 1., 1., 1., 1.])"
      ]
     },
     "execution_count": 39,
     "metadata": {},
     "output_type": "execute_result"
    }
   ],
   "source": [
    "C"
   ]
  },
  {
   "cell_type": "code",
   "execution_count": 40,
   "id": "b410fc3f",
   "metadata": {},
   "outputs": [
    {
     "data": {
      "text/plain": [
       "(24,)"
      ]
     },
     "execution_count": 40,
     "metadata": {},
     "output_type": "execute_result"
    }
   ],
   "source": [
    "C.shape"
   ]
  },
  {
   "cell_type": "code",
   "execution_count": 41,
   "id": "02120663",
   "metadata": {},
   "outputs": [],
   "source": [
    "C1 = matrix(C, (1, 24)) ## C1 = A"
   ]
  },
  {
   "cell_type": "code",
   "execution_count": 42,
   "id": "58c447f7",
   "metadata": {},
   "outputs": [
    {
     "data": {
      "text/plain": [
       "<1x24 matrix, tc='d'>"
      ]
     },
     "execution_count": 42,
     "metadata": {},
     "output_type": "execute_result"
    }
   ],
   "source": [
    "C1"
   ]
  },
  {
   "cell_type": "code",
   "execution_count": 43,
   "id": "7cb67dba",
   "metadata": {},
   "outputs": [],
   "source": [
    "D1 = matrix([0.0]) ## D1 = b"
   ]
  },
  {
   "cell_type": "code",
   "execution_count": 44,
   "id": "f9a74142",
   "metadata": {},
   "outputs": [
    {
     "data": {
      "text/plain": [
       "array([[ 1.,  0.,  0., ...,  0.,  0.,  0.],\n",
       "       [ 0.,  1.,  0., ...,  0.,  0.,  0.],\n",
       "       [ 0.,  0.,  1., ...,  0.,  0.,  0.],\n",
       "       ...,\n",
       "       [-0., -0., -0., ..., -1., -0., -0.],\n",
       "       [-0., -0., -0., ..., -0., -1., -0.],\n",
       "       [-0., -0., -0., ..., -0., -0., -1.]])"
      ]
     },
     "execution_count": 44,
     "metadata": {},
     "output_type": "execute_result"
    }
   ],
   "source": [
    "g = np.identity(24, dtype = float)\n",
    "g1 = (-1)*np.identity(24, dtype = float)\n",
    "g2 = np.concatenate((g, g1), axis = 0)\n",
    "g2"
   ]
  },
  {
   "cell_type": "code",
   "execution_count": 45,
   "id": "4aa07c0f",
   "metadata": {},
   "outputs": [
    {
     "data": {
      "text/plain": [
       "(48, 24)"
      ]
     },
     "execution_count": 45,
     "metadata": {},
     "output_type": "execute_result"
    }
   ],
   "source": [
    "g2.shape"
   ]
  },
  {
   "cell_type": "code",
   "execution_count": 46,
   "id": "b21ed4ea",
   "metadata": {},
   "outputs": [
    {
     "data": {
      "text/plain": [
       "<48x24 matrix, tc='d'>"
      ]
     },
     "execution_count": 46,
     "metadata": {},
     "output_type": "execute_result"
    }
   ],
   "source": [
    "G1 = matrix(g2) ## G1 = G\n",
    "G1"
   ]
  },
  {
   "cell_type": "code",
   "execution_count": 47,
   "id": "7fd169da",
   "metadata": {},
   "outputs": [],
   "source": [
    "H1 = matrix([B_in for i in range(48)]) ## H1 = h"
   ]
  },
  {
   "cell_type": "code",
   "execution_count": 48,
   "id": "99fa38e8",
   "metadata": {},
   "outputs": [
    {
     "data": {
      "text/plain": [
       "<48x1 matrix, tc='d'>"
      ]
     },
     "execution_count": 48,
     "metadata": {},
     "output_type": "execute_result"
    }
   ],
   "source": [
    "H1"
   ]
  },
  {
   "cell_type": "code",
   "execution_count": 49,
   "id": "af2e39d9",
   "metadata": {},
   "outputs": [
    {
     "name": "stdout",
     "output_type": "stream",
     "text": [
      "     pcost       dcost       gap    pres   dres\n",
      " 0: -1.4553e-01 -8.4781e+01  8e+01  2e-16  6e-16\n",
      " 1: -3.5447e-01 -7.2304e+00  7e+00  2e-16  9e-16\n",
      " 2: -5.8785e-01 -8.8026e-01  3e-01  2e-16  8e-17\n",
      " 3: -6.0490e-01 -6.1620e-01  1e-02  7e-16  6e-17\n",
      " 4: -6.0618e-01 -6.0688e-01  7e-04  4e-16  7e-17\n",
      " 5: -6.0622e-01 -6.0624e-01  2e-05  2e-16  7e-17\n",
      " 6: -6.0622e-01 -6.0622e-01  2e-07  2e-16  6e-17\n",
      "Optimal solution found.\n"
     ]
    }
   ],
   "source": [
    "sol = solvers.qp(A1, B1, G1, H1, C1, D1)"
   ]
  },
  {
   "cell_type": "code",
   "execution_count": 50,
   "id": "e94fae1c",
   "metadata": {},
   "outputs": [
    {
     "name": "stdout",
     "output_type": "stream",
     "text": [
      "[ 1.05e-02]\n",
      "[ 4.79e-01]\n",
      "[ 2.71e-01]\n",
      "[ 1.06e-01]\n",
      "[ 2.29e-01]\n",
      "[ 7.29e-01]\n",
      "[-4.83e-01]\n",
      "[ 5.95e-02]\n",
      "[-5.02e-01]\n",
      "[-2.55e-01]\n",
      "[ 1.22e-01]\n",
      "[-2.95e-02]\n",
      "[ 1.12e-01]\n",
      "[ 3.60e-01]\n",
      "[ 7.27e-02]\n",
      "[ 1.88e-01]\n",
      "[ 2.52e-01]\n",
      "[-6.02e-01]\n",
      "[-1.38e+00]\n",
      "[-7.67e-02]\n",
      "[ 1.03e-01]\n",
      "[ 7.91e-02]\n",
      "[ 2.99e-01]\n",
      "[-1.40e-01]\n",
      "\n"
     ]
    }
   ],
   "source": [
    "print(sol['x'])"
   ]
  },
  {
   "cell_type": "code",
   "execution_count": 54,
   "id": "d5ccbaf1",
   "metadata": {},
   "outputs": [],
   "source": [
    "opti_x = sol['x']"
   ]
  },
  {
   "cell_type": "code",
   "execution_count": 51,
   "id": "81184718",
   "metadata": {},
   "outputs": [],
   "source": [
    "## Assuming No Inequality Constraints"
   ]
  },
  {
   "cell_type": "code",
   "execution_count": 52,
   "id": "db9a08d9",
   "metadata": {},
   "outputs": [],
   "source": [
    "G2 = matrix(np.zeros((48,24) , dtype=float))"
   ]
  },
  {
   "cell_type": "code",
   "execution_count": 53,
   "id": "dae7b221",
   "metadata": {},
   "outputs": [],
   "source": [
    "H2 = matrix([0.0 for i in range(48)])"
   ]
  },
  {
   "cell_type": "code",
   "execution_count": 55,
   "id": "cd1c55d2",
   "metadata": {},
   "outputs": [
    {
     "name": "stdout",
     "output_type": "stream",
     "text": [
      "     pcost       dcost       gap    pres   dres\n",
      " 0: -6.0622e-01 -6.0622e-01  5e+01  7e+00  7e-17\n",
      " 1: -6.0622e-01 -6.0622e-01  5e-01  7e-02  6e-17\n",
      " 2: -6.0622e-01 -6.0622e-01  5e-03  7e-04  5e-17\n",
      " 3: -6.0622e-01 -6.0622e-01  5e-05  7e-06  4e-17\n",
      " 4: -6.0622e-01 -6.0622e-01  5e-07  7e-08  4e-17\n",
      "Optimal solution found.\n"
     ]
    }
   ],
   "source": [
    "sol2 = solvers.qp(A1, B1, G2, H2, C1, D1)"
   ]
  },
  {
   "cell_type": "code",
   "execution_count": 57,
   "id": "ad3d8638",
   "metadata": {},
   "outputs": [
    {
     "name": "stdout",
     "output_type": "stream",
     "text": [
      "[ 1.05e-02]\n",
      "[ 4.79e-01]\n",
      "[ 2.71e-01]\n",
      "[ 1.06e-01]\n",
      "[ 2.29e-01]\n",
      "[ 7.29e-01]\n",
      "[-4.83e-01]\n",
      "[ 5.95e-02]\n",
      "[-5.02e-01]\n",
      "[-2.55e-01]\n",
      "[ 1.22e-01]\n",
      "[-2.95e-02]\n",
      "[ 1.12e-01]\n",
      "[ 3.60e-01]\n",
      "[ 7.27e-02]\n",
      "[ 1.88e-01]\n",
      "[ 2.52e-01]\n",
      "[-6.02e-01]\n",
      "[-1.38e+00]\n",
      "[-7.67e-02]\n",
      "[ 1.03e-01]\n",
      "[ 7.91e-02]\n",
      "[ 2.99e-01]\n",
      "[-1.40e-01]\n",
      "\n"
     ]
    }
   ],
   "source": [
    "opti_x_new = sol2['x']\n",
    "print(opti_x_new)"
   ]
  },
  {
   "cell_type": "code",
   "execution_count": 102,
   "id": "920d4423",
   "metadata": {},
   "outputs": [
    {
     "data": {
      "text/plain": [
       "{'x': <24x1 matrix, tc='d'>,\n",
       " 'y': <1x1 matrix, tc='d'>,\n",
       " 's': <24x1 matrix, tc='d'>,\n",
       " 'z': <24x1 matrix, tc='d'>,\n",
       " 'status': 'optimal',\n",
       " 'gap': 2.4000000000000077e-07,\n",
       " 'relative gap': 2.300634731420544e-07,\n",
       " 'primal objective': -1.043190371432022,\n",
       " 'dual objective': -1.043190371432022,\n",
       " 'primal infeasibility': 4.89897948556637e-08,\n",
       " 'dual infeasibility': 4.393134621982496e-17,\n",
       " 'primal slack': 1.000000000000003e-08,\n",
       " 'dual slack': 1.0,\n",
       " 'iterations': 4}"
      ]
     },
     "execution_count": 102,
     "metadata": {},
     "output_type": "execute_result"
    }
   ],
   "source": [
    "sol2"
   ]
  },
  {
   "cell_type": "code",
   "execution_count": null,
   "id": "5d02599d",
   "metadata": {},
   "outputs": [],
   "source": []
  }
 ],
 "metadata": {
  "kernelspec": {
   "display_name": "Python 3 (ipykernel)",
   "language": "python",
   "name": "python3"
  },
  "language_info": {
   "codemirror_mode": {
    "name": "ipython",
    "version": 3
   },
   "file_extension": ".py",
   "mimetype": "text/x-python",
   "name": "python",
   "nbconvert_exporter": "python",
   "pygments_lexer": "ipython3",
   "version": "3.8.10"
  }
 },
 "nbformat": 4,
 "nbformat_minor": 5
}
